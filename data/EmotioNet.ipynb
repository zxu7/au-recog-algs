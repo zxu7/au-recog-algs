{
 "cells": [
  {
   "cell_type": "code",
   "execution_count": null,
   "metadata": {
    "collapsed": true
   },
   "outputs": [],
   "source": [
    "import os\n",
    "import csv\n",
    "import glob\n",
    "import subprocess\n",
    "import numpy as np\n",
    "import pandas as pd\n",
    "from tqdm import tqdm\n",
    "\n",
    "FACS_xlsx_path = '/Users/harryxu/Downloads/EmotioNet/EmotioNet_FACS.xlsx'\n",
    "# CAT_xlsx_path = '/Users/harryxu/Downloads/EmotioNet/URLsWithEmotionCat.xlsx'\n",
    "FACS_csv_path = '/Users/harryxu/Downloads/EmotioNet/EmotioNet_FACS_nopw.csv'\n",
    "CAT_csv_path = '/Users/harryxu/Downloads/EmotioNet/URLsWithEmotionCat_nopw.csv'\n",
    "FACS_txt_dir = '/Users/harryxu/Downloads/EmotioNet/emotioNet_challenge_files_server_challenge_1.2/'\n",
    "FACS_txts = glob.glob(FACS_txt_dir + '*.txt')"
   ]
  },
  {
   "cell_type": "code",
   "execution_count": null,
   "metadata": {},
   "outputs": [],
   "source": [
    "# facs\n",
    "facs_pd_data = pd.read_csv(FACS_csv_path)"
   ]
  },
  {
   "cell_type": "markdown",
   "metadata": {},
   "source": [
    "# make train"
   ]
  },
  {
   "cell_type": "markdown",
   "metadata": {},
   "source": [
    "# make validation"
   ]
  },
  {
   "cell_type": "markdown",
   "metadata": {},
   "source": [
    "# make validation"
   ]
  },
  {
   "cell_type": "code",
   "execution_count": null,
   "metadata": {},
   "outputs": [],
   "source": [
    "facs_pd_data_copy = facs_pd_data.copy()\n",
    "facs_pd_data_copy = facs_pd_data_copy.drop('URL orig', axis=1)\n",
    "facs_pd_data_copy.columns = ['url'] + ['AU'+str(i) for i in range(1, 61)]\n",
    "facs_pd_data_copy.head(5)\n",
    "\n",
    "# eliminate columns that are all 999\n",
    "for c in facs_pd_data_copy.columns[1:]:\n",
    "    col = facs_pd_data_copy[c]\n",
    "    col_uniques = col.unique()\n",
    "    if len(col_uniques) == 1 and col_uniques[0] in ('999', 999):\n",
    "        facs_pd_data_copy = facs_pd_data_copy.drop(c, axis=1)"
   ]
  },
  {
   "cell_type": "code",
   "execution_count": null,
   "metadata": {},
   "outputs": [],
   "source": [
    "facs_pd_data_copy.head(5)"
   ]
  },
  {
   "cell_type": "code",
   "execution_count": null,
   "metadata": {},
   "outputs": [],
   "source": [
    "# strip \"' in url\n",
    "facs_pd_data_copy['url'] = [u[1:-1] for u in list(facs_pd_data_copy['url'])]\n",
    "facs_pd_data_copy.head(5)"
   ]
  },
  {
   "cell_type": "code",
   "execution_count": null,
   "metadata": {},
   "outputs": [],
   "source": [
    "facs_pd_data_copy.to_csv('valid_au_labels.csv', index=False)"
   ]
  }
 ],
 "metadata": {
  "kernelspec": {
   "display_name": "Python 2",
   "language": "python",
   "name": "python2"
  },
  "language_info": {
   "codemirror_mode": {
    "name": "ipython",
    "version": 2
   },
   "file_extension": ".py",
   "mimetype": "text/x-python",
   "name": "python",
   "nbconvert_exporter": "python",
   "pygments_lexer": "ipython2",
   "version": "2.7.6"
  }
 },
 "nbformat": 4,
 "nbformat_minor": 0
}
